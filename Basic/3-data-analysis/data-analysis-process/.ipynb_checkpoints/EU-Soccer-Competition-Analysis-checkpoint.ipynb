{
 "cells": [
  {
   "cell_type": "markdown",
   "metadata": {},
   "source": [
    "\n",
    "# Project: European Soccer Database\n",
    "\n",
    "## Table of Contents\n",
    "<ul>\n",
    "<li><a href=\"#intro\">Introduction</a></li>\n",
    "<li><a href=\"#wrangling\">Data Wrangling</a></li>\n",
    "<li><a href=\"#eda\">Exploratory Data Analysis</a></li>\n",
    "<li><a href=\"#conclusions\">Conclusions</a></li>\n",
    "</ul>"
   ]
  },
  {
   "cell_type": "markdown",
   "metadata": {},
   "source": [
    "<a id='intro'></a>\n",
    "## Introduction\n",
    "\n",
    "> European Soccer match has a top level and may be the most exciting soccer match in the world. There are many European national teams qualifying for the World Cup every time. At the same time a lot of football players are playing for different teams in Europe. Though it is dramatic to watch a match, it is also enjoyable to analyze these teams and players.\n",
    "\n",
    "**Question 1**: In 2015/2016 season, which league has the most mean goals? Which teams have the most mean scores respectively？What about mean fumbles?  \n",
    "\n",
    "**Question 2**: What is the win rate for the best team that ranks first in England Premier League, Germany 1. Bundesliga, Italy Serie A and Spain LIGA BBVA in 2015/2016 season separately？  \n",
    "\n",
    "**Question 3**: What is the difference between fastest team and the mean team attributes?"
   ]
  },
  {
   "cell_type": "code",
   "execution_count": 1,
   "metadata": {},
   "outputs": [],
   "source": [
    "# Use this cell to set up import statements for all of the packages that you\n",
    "#   plan to use.\n",
    "\n",
    "# Remember to include a 'magic word' so that your visualizations are plotted\n",
    "#   inline with the notebook. See this page for more:\n",
    "#   http://ipython.readthedocs.io/en/stable/interactive/magics.html\n",
    "\n",
    "import numpy as np\n",
    "import pandas as pd\n",
    "import matplotlib.pyplot as plt\n",
    "% matplotlib inline"
   ]
  },
  {
   "cell_type": "markdown",
   "metadata": {},
   "source": [
    "<a id='wrangling'></a>\n",
    "## Data Wrangling\n",
    "> At the beginning, I convert the database.sqilte to csv files according to the table and we get nine files. Let's see them in details. I will skip over some simply files.\n",
    "\n",
    "### General Properties"
   ]
  },
  {
   "cell_type": "code",
   "execution_count": 2,
   "metadata": {},
   "outputs": [
    {
     "name": "stdout",
     "output_type": "stream",
     "text": [
      "<class 'pandas.core.frame.DataFrame'>\n",
      "RangeIndex: 11 entries, 0 to 10\n",
      "Data columns (total 2 columns):\n",
      "id      11 non-null int64\n",
      "name    11 non-null object\n",
      "dtypes: int64(1), object(1)\n",
      "memory usage: 256.0+ bytes\n"
     ]
    }
   ],
   "source": [
    "# Load your data and print out a few lines. Perform operations to inspect data\n",
    "#   types and look for instances of missing or possibly errant data.\n",
    "df_country = pd.read_csv('./data/Country.csv')\n",
    "df_country.info()"
   ]
  },
  {
   "cell_type": "code",
   "execution_count": 3,
   "metadata": {},
   "outputs": [
    {
     "name": "stdout",
     "output_type": "stream",
     "text": [
      "<class 'pandas.core.frame.DataFrame'>\n",
      "RangeIndex: 11 entries, 0 to 10\n",
      "Data columns (total 3 columns):\n",
      "id            11 non-null int64\n",
      "country_id    11 non-null int64\n",
      "name          11 non-null object\n",
      "dtypes: int64(2), object(1)\n",
      "memory usage: 344.0+ bytes\n"
     ]
    }
   ],
   "source": [
    "df_league = pd.read_csv('./data/League.csv')\n",
    "df_league.info()"
   ]
  },
  {
   "cell_type": "code",
   "execution_count": 4,
   "metadata": {},
   "outputs": [
    {
     "name": "stdout",
     "output_type": "stream",
     "text": [
      "<class 'pandas.core.frame.DataFrame'>\n",
      "RangeIndex: 11060 entries, 0 to 11059\n",
      "Data columns (total 7 columns):\n",
      "id                    11060 non-null int64\n",
      "player_api_id         11060 non-null int64\n",
      "player_name           11060 non-null object\n",
      "player_fifa_api_id    11060 non-null int64\n",
      "birthday              11060 non-null object\n",
      "height                11060 non-null float64\n",
      "weight                11060 non-null int64\n",
      "dtypes: float64(1), int64(4), object(2)\n",
      "memory usage: 604.9+ KB\n"
     ]
    }
   ],
   "source": [
    "df_player = pd.read_csv('./data/Player.csv')\n",
    "df_player.info()"
   ]
  },
  {
   "cell_type": "code",
   "execution_count": 5,
   "metadata": {},
   "outputs": [
    {
     "data": {
      "text/plain": [
       "0"
      ]
     },
     "execution_count": 5,
     "metadata": {},
     "output_type": "execute_result"
    }
   ],
   "source": [
    "sum(df_player.duplicated())"
   ]
  },
  {
   "cell_type": "markdown",
   "metadata": {},
   "source": [
    "There are 11060 players and no any duplicated or null elements. This data is clean."
   ]
  },
  {
   "cell_type": "code",
   "execution_count": 6,
   "metadata": {},
   "outputs": [
    {
     "name": "stdout",
     "output_type": "stream",
     "text": [
      "(183978, 42)\n",
      "0\n"
     ]
    },
    {
     "data": {
      "text/plain": [
       "id                        0\n",
       "player_fifa_api_id        0\n",
       "player_api_id             0\n",
       "date                      0\n",
       "overall_rating          836\n",
       "potential               836\n",
       "preferred_foot          836\n",
       "attacking_work_rate    3230\n",
       "defensive_work_rate     836\n",
       "crossing                836\n",
       "finishing               836\n",
       "heading_accuracy        836\n",
       "short_passing           836\n",
       "volleys                2713\n",
       "dribbling               836\n",
       "curve                  2713\n",
       "free_kick_accuracy      836\n",
       "long_passing            836\n",
       "ball_control            836\n",
       "acceleration            836\n",
       "sprint_speed            836\n",
       "agility                2713\n",
       "reactions               836\n",
       "balance                2713\n",
       "shot_power              836\n",
       "jumping                2713\n",
       "stamina                 836\n",
       "strength                836\n",
       "long_shots              836\n",
       "aggression              836\n",
       "interceptions           836\n",
       "positioning             836\n",
       "vision                 2713\n",
       "penalties               836\n",
       "marking                 836\n",
       "standing_tackle         836\n",
       "sliding_tackle         2713\n",
       "gk_diving               836\n",
       "gk_handling             836\n",
       "gk_kicking              836\n",
       "gk_positioning          836\n",
       "gk_reflexes             836\n",
       "dtype: int64"
      ]
     },
     "execution_count": 6,
     "metadata": {},
     "output_type": "execute_result"
    }
   ],
   "source": [
    "df_player_attributes = pd.read_csv('./data/Player_Attributes.csv')\n",
    "print(df_player_attributes.shape)\n",
    "print(sum(df_player_attributes.duplicated()))\n",
    "df_player_attributes.isnull().sum()"
   ]
  },
  {
   "cell_type": "markdown",
   "metadata": {},
   "source": [
    "The player attributes have 183978 rows and up to over 3000 null parts. We will remove the null parts. It has little effects on the whole data."
   ]
  },
  {
   "cell_type": "code",
   "execution_count": 8,
   "metadata": {},
   "outputs": [
    {
     "name": "stdout",
     "output_type": "stream",
     "text": [
      "<class 'pandas.core.frame.DataFrame'>\n",
      "RangeIndex: 299 entries, 0 to 298\n",
      "Data columns (total 5 columns):\n",
      "id                  299 non-null int64\n",
      "team_api_id         299 non-null int64\n",
      "team_fifa_api_id    288 non-null float64\n",
      "team_long_name      299 non-null object\n",
      "team_short_name     299 non-null object\n",
      "dtypes: float64(1), int64(2), object(2)\n",
      "memory usage: 11.8+ KB\n",
      "0\n",
      "   id  team_api_id  team_fifa_api_id team_long_name team_short_name\n",
      "0   1         9987             673.0       KRC Genk             GEN\n",
      "1   2         9993             675.0   Beerschot AC             BAC\n"
     ]
    }
   ],
   "source": [
    "df_team = pd.read_csv('./data/Team.csv')\n",
    "df_team.info()\n",
    "print(df_team.duplicated().sum())\n",
    "print(df_team.head(2))"
   ]
  },
  {
   "cell_type": "code",
   "execution_count": 14,
   "metadata": {},
   "outputs": [
    {
     "name": "stdout",
     "output_type": "stream",
     "text": [
      "<class 'pandas.core.frame.DataFrame'>\n",
      "RangeIndex: 1458 entries, 0 to 1457\n",
      "Data columns (total 25 columns):\n",
      "id                                1458 non-null int64\n",
      "team_fifa_api_id                  1458 non-null int64\n",
      "team_api_id                       1458 non-null int64\n",
      "date                              1458 non-null object\n",
      "buildUpPlaySpeed                  1458 non-null int64\n",
      "buildUpPlaySpeedClass             1458 non-null object\n",
      "buildUpPlayDribbling              489 non-null float64\n",
      "buildUpPlayDribblingClass         1458 non-null object\n",
      "buildUpPlayPassing                1458 non-null int64\n",
      "buildUpPlayPassingClass           1458 non-null object\n",
      "buildUpPlayPositioningClass       1458 non-null object\n",
      "chanceCreationPassing             1458 non-null int64\n",
      "chanceCreationPassingClass        1458 non-null object\n",
      "chanceCreationCrossing            1458 non-null int64\n",
      "chanceCreationCrossingClass       1458 non-null object\n",
      "chanceCreationShooting            1458 non-null int64\n",
      "chanceCreationShootingClass       1458 non-null object\n",
      "chanceCreationPositioningClass    1458 non-null object\n",
      "defencePressure                   1458 non-null int64\n",
      "defencePressureClass              1458 non-null object\n",
      "defenceAggression                 1458 non-null int64\n",
      "defenceAggressionClass            1458 non-null object\n",
      "defenceTeamWidth                  1458 non-null int64\n",
      "defenceTeamWidthClass             1458 non-null object\n",
      "defenceDefenderLineClass          1458 non-null object\n",
      "dtypes: float64(1), int64(11), object(13)\n",
      "memory usage: 284.8+ KB\n",
      "None\n",
      "0\n"
     ]
    },
    {
     "data": {
      "text/html": [
       "<div>\n",
       "<style scoped>\n",
       "    .dataframe tbody tr th:only-of-type {\n",
       "        vertical-align: middle;\n",
       "    }\n",
       "\n",
       "    .dataframe tbody tr th {\n",
       "        vertical-align: top;\n",
       "    }\n",
       "\n",
       "    .dataframe thead th {\n",
       "        text-align: right;\n",
       "    }\n",
       "</style>\n",
       "<table border=\"1\" class=\"dataframe\">\n",
       "  <thead>\n",
       "    <tr style=\"text-align: right;\">\n",
       "      <th></th>\n",
       "      <th>id</th>\n",
       "      <th>team_fifa_api_id</th>\n",
       "      <th>team_api_id</th>\n",
       "      <th>date</th>\n",
       "      <th>buildUpPlaySpeed</th>\n",
       "      <th>buildUpPlaySpeedClass</th>\n",
       "      <th>buildUpPlayDribbling</th>\n",
       "      <th>buildUpPlayDribblingClass</th>\n",
       "      <th>buildUpPlayPassing</th>\n",
       "      <th>buildUpPlayPassingClass</th>\n",
       "      <th>...</th>\n",
       "      <th>chanceCreationShooting</th>\n",
       "      <th>chanceCreationShootingClass</th>\n",
       "      <th>chanceCreationPositioningClass</th>\n",
       "      <th>defencePressure</th>\n",
       "      <th>defencePressureClass</th>\n",
       "      <th>defenceAggression</th>\n",
       "      <th>defenceAggressionClass</th>\n",
       "      <th>defenceTeamWidth</th>\n",
       "      <th>defenceTeamWidthClass</th>\n",
       "      <th>defenceDefenderLineClass</th>\n",
       "    </tr>\n",
       "  </thead>\n",
       "  <tbody>\n",
       "    <tr>\n",
       "      <th>0</th>\n",
       "      <td>1</td>\n",
       "      <td>434</td>\n",
       "      <td>9930</td>\n",
       "      <td>2010-02-22 00:00:00</td>\n",
       "      <td>60</td>\n",
       "      <td>Balanced</td>\n",
       "      <td>NaN</td>\n",
       "      <td>Little</td>\n",
       "      <td>50</td>\n",
       "      <td>Mixed</td>\n",
       "      <td>...</td>\n",
       "      <td>55</td>\n",
       "      <td>Normal</td>\n",
       "      <td>Organised</td>\n",
       "      <td>50</td>\n",
       "      <td>Medium</td>\n",
       "      <td>55</td>\n",
       "      <td>Press</td>\n",
       "      <td>45</td>\n",
       "      <td>Normal</td>\n",
       "      <td>Cover</td>\n",
       "    </tr>\n",
       "    <tr>\n",
       "      <th>1</th>\n",
       "      <td>2</td>\n",
       "      <td>434</td>\n",
       "      <td>9930</td>\n",
       "      <td>2014-09-19 00:00:00</td>\n",
       "      <td>52</td>\n",
       "      <td>Balanced</td>\n",
       "      <td>48.0</td>\n",
       "      <td>Normal</td>\n",
       "      <td>56</td>\n",
       "      <td>Mixed</td>\n",
       "      <td>...</td>\n",
       "      <td>64</td>\n",
       "      <td>Normal</td>\n",
       "      <td>Organised</td>\n",
       "      <td>47</td>\n",
       "      <td>Medium</td>\n",
       "      <td>44</td>\n",
       "      <td>Press</td>\n",
       "      <td>54</td>\n",
       "      <td>Normal</td>\n",
       "      <td>Cover</td>\n",
       "    </tr>\n",
       "    <tr>\n",
       "      <th>2</th>\n",
       "      <td>3</td>\n",
       "      <td>434</td>\n",
       "      <td>9930</td>\n",
       "      <td>2015-09-10 00:00:00</td>\n",
       "      <td>47</td>\n",
       "      <td>Balanced</td>\n",
       "      <td>41.0</td>\n",
       "      <td>Normal</td>\n",
       "      <td>54</td>\n",
       "      <td>Mixed</td>\n",
       "      <td>...</td>\n",
       "      <td>64</td>\n",
       "      <td>Normal</td>\n",
       "      <td>Organised</td>\n",
       "      <td>47</td>\n",
       "      <td>Medium</td>\n",
       "      <td>44</td>\n",
       "      <td>Press</td>\n",
       "      <td>54</td>\n",
       "      <td>Normal</td>\n",
       "      <td>Cover</td>\n",
       "    </tr>\n",
       "    <tr>\n",
       "      <th>3</th>\n",
       "      <td>4</td>\n",
       "      <td>77</td>\n",
       "      <td>8485</td>\n",
       "      <td>2010-02-22 00:00:00</td>\n",
       "      <td>70</td>\n",
       "      <td>Fast</td>\n",
       "      <td>NaN</td>\n",
       "      <td>Little</td>\n",
       "      <td>70</td>\n",
       "      <td>Long</td>\n",
       "      <td>...</td>\n",
       "      <td>70</td>\n",
       "      <td>Lots</td>\n",
       "      <td>Organised</td>\n",
       "      <td>60</td>\n",
       "      <td>Medium</td>\n",
       "      <td>70</td>\n",
       "      <td>Double</td>\n",
       "      <td>70</td>\n",
       "      <td>Wide</td>\n",
       "      <td>Cover</td>\n",
       "    </tr>\n",
       "    <tr>\n",
       "      <th>4</th>\n",
       "      <td>5</td>\n",
       "      <td>77</td>\n",
       "      <td>8485</td>\n",
       "      <td>2011-02-22 00:00:00</td>\n",
       "      <td>47</td>\n",
       "      <td>Balanced</td>\n",
       "      <td>NaN</td>\n",
       "      <td>Little</td>\n",
       "      <td>52</td>\n",
       "      <td>Mixed</td>\n",
       "      <td>...</td>\n",
       "      <td>52</td>\n",
       "      <td>Normal</td>\n",
       "      <td>Organised</td>\n",
       "      <td>47</td>\n",
       "      <td>Medium</td>\n",
       "      <td>47</td>\n",
       "      <td>Press</td>\n",
       "      <td>52</td>\n",
       "      <td>Normal</td>\n",
       "      <td>Cover</td>\n",
       "    </tr>\n",
       "  </tbody>\n",
       "</table>\n",
       "<p>5 rows × 25 columns</p>\n",
       "</div>"
      ],
      "text/plain": [
       "   id  team_fifa_api_id  team_api_id                 date  buildUpPlaySpeed  \\\n",
       "0   1               434         9930  2010-02-22 00:00:00                60   \n",
       "1   2               434         9930  2014-09-19 00:00:00                52   \n",
       "2   3               434         9930  2015-09-10 00:00:00                47   \n",
       "3   4                77         8485  2010-02-22 00:00:00                70   \n",
       "4   5                77         8485  2011-02-22 00:00:00                47   \n",
       "\n",
       "  buildUpPlaySpeedClass  buildUpPlayDribbling buildUpPlayDribblingClass  \\\n",
       "0              Balanced                   NaN                    Little   \n",
       "1              Balanced                  48.0                    Normal   \n",
       "2              Balanced                  41.0                    Normal   \n",
       "3                  Fast                   NaN                    Little   \n",
       "4              Balanced                   NaN                    Little   \n",
       "\n",
       "   buildUpPlayPassing buildUpPlayPassingClass           ...             \\\n",
       "0                  50                   Mixed           ...              \n",
       "1                  56                   Mixed           ...              \n",
       "2                  54                   Mixed           ...              \n",
       "3                  70                    Long           ...              \n",
       "4                  52                   Mixed           ...              \n",
       "\n",
       "  chanceCreationShooting  chanceCreationShootingClass  \\\n",
       "0                     55                       Normal   \n",
       "1                     64                       Normal   \n",
       "2                     64                       Normal   \n",
       "3                     70                         Lots   \n",
       "4                     52                       Normal   \n",
       "\n",
       "  chanceCreationPositioningClass  defencePressure defencePressureClass  \\\n",
       "0                      Organised               50               Medium   \n",
       "1                      Organised               47               Medium   \n",
       "2                      Organised               47               Medium   \n",
       "3                      Organised               60               Medium   \n",
       "4                      Organised               47               Medium   \n",
       "\n",
       "   defenceAggression defenceAggressionClass defenceTeamWidth  \\\n",
       "0                 55                  Press               45   \n",
       "1                 44                  Press               54   \n",
       "2                 44                  Press               54   \n",
       "3                 70                 Double               70   \n",
       "4                 47                  Press               52   \n",
       "\n",
       "   defenceTeamWidthClass defenceDefenderLineClass  \n",
       "0                 Normal                    Cover  \n",
       "1                 Normal                    Cover  \n",
       "2                 Normal                    Cover  \n",
       "3                   Wide                    Cover  \n",
       "4                 Normal                    Cover  \n",
       "\n",
       "[5 rows x 25 columns]"
      ]
     },
     "execution_count": 14,
     "metadata": {},
     "output_type": "execute_result"
    }
   ],
   "source": [
    "df_team_attributes = pd.read_csv('./data/Team_Attributes.csv')\n",
    "print(df_team_attributes.info())\n",
    "print(df_team_attributes.duplicated().sum())\n",
    "df_team_attributes.head()"
   ]
  },
  {
   "cell_type": "markdown",
   "metadata": {},
   "source": [
    "From the above data, we can see there are only less than 500 non-null buildUpPlayDribbling data in more than 1400 rows. Further more, when buildUpPlayDribbling is NaN, the buildUpPlayDribblingClass is Little. We can guess there may be some relations. Let's continue to see the Match file."
   ]
  },
  {
   "cell_type": "code",
   "execution_count": 9,
   "metadata": {},
   "outputs": [
    {
     "name": "stdout",
     "output_type": "stream",
     "text": [
      "<class 'pandas.core.frame.DataFrame'>\n",
      "RangeIndex: 25979 entries, 0 to 25978\n",
      "Columns: 115 entries, id to BSA\n",
      "dtypes: float64(96), int64(9), object(10)\n",
      "memory usage: 22.8+ MB\n",
      "None\n"
     ]
    },
    {
     "data": {
      "text/html": [
       "<div>\n",
       "<style scoped>\n",
       "    .dataframe tbody tr th:only-of-type {\n",
       "        vertical-align: middle;\n",
       "    }\n",
       "\n",
       "    .dataframe tbody tr th {\n",
       "        vertical-align: top;\n",
       "    }\n",
       "\n",
       "    .dataframe thead th {\n",
       "        text-align: right;\n",
       "    }\n",
       "</style>\n",
       "<table border=\"1\" class=\"dataframe\">\n",
       "  <thead>\n",
       "    <tr style=\"text-align: right;\">\n",
       "      <th></th>\n",
       "      <th>id</th>\n",
       "      <th>country_id</th>\n",
       "      <th>league_id</th>\n",
       "      <th>season</th>\n",
       "      <th>stage</th>\n",
       "      <th>date</th>\n",
       "      <th>match_api_id</th>\n",
       "      <th>home_team_api_id</th>\n",
       "      <th>away_team_api_id</th>\n",
       "      <th>home_team_goal</th>\n",
       "      <th>...</th>\n",
       "      <th>SJA</th>\n",
       "      <th>VCH</th>\n",
       "      <th>VCD</th>\n",
       "      <th>VCA</th>\n",
       "      <th>GBH</th>\n",
       "      <th>GBD</th>\n",
       "      <th>GBA</th>\n",
       "      <th>BSH</th>\n",
       "      <th>BSD</th>\n",
       "      <th>BSA</th>\n",
       "    </tr>\n",
       "  </thead>\n",
       "  <tbody>\n",
       "    <tr>\n",
       "      <th>0</th>\n",
       "      <td>1</td>\n",
       "      <td>1</td>\n",
       "      <td>1</td>\n",
       "      <td>2008/2009</td>\n",
       "      <td>1</td>\n",
       "      <td>2008-08-17 00:00:00</td>\n",
       "      <td>492473</td>\n",
       "      <td>9987</td>\n",
       "      <td>9993</td>\n",
       "      <td>1</td>\n",
       "      <td>...</td>\n",
       "      <td>4.0</td>\n",
       "      <td>1.65</td>\n",
       "      <td>3.40</td>\n",
       "      <td>4.50</td>\n",
       "      <td>1.78</td>\n",
       "      <td>3.25</td>\n",
       "      <td>4.00</td>\n",
       "      <td>1.73</td>\n",
       "      <td>3.40</td>\n",
       "      <td>4.2</td>\n",
       "    </tr>\n",
       "    <tr>\n",
       "      <th>1</th>\n",
       "      <td>2</td>\n",
       "      <td>1</td>\n",
       "      <td>1</td>\n",
       "      <td>2008/2009</td>\n",
       "      <td>1</td>\n",
       "      <td>2008-08-16 00:00:00</td>\n",
       "      <td>492474</td>\n",
       "      <td>10000</td>\n",
       "      <td>9994</td>\n",
       "      <td>0</td>\n",
       "      <td>...</td>\n",
       "      <td>3.8</td>\n",
       "      <td>2.00</td>\n",
       "      <td>3.25</td>\n",
       "      <td>3.25</td>\n",
       "      <td>1.85</td>\n",
       "      <td>3.25</td>\n",
       "      <td>3.75</td>\n",
       "      <td>1.91</td>\n",
       "      <td>3.25</td>\n",
       "      <td>3.6</td>\n",
       "    </tr>\n",
       "  </tbody>\n",
       "</table>\n",
       "<p>2 rows × 115 columns</p>\n",
       "</div>"
      ],
      "text/plain": [
       "   id  country_id  league_id     season  stage                 date  \\\n",
       "0   1           1          1  2008/2009      1  2008-08-17 00:00:00   \n",
       "1   2           1          1  2008/2009      1  2008-08-16 00:00:00   \n",
       "\n",
       "   match_api_id  home_team_api_id  away_team_api_id  home_team_goal ...   SJA  \\\n",
       "0        492473              9987              9993               1 ...   4.0   \n",
       "1        492474             10000              9994               0 ...   3.8   \n",
       "\n",
       "    VCH   VCD   VCA   GBH   GBD   GBA   BSH   BSD  BSA  \n",
       "0  1.65  3.40  4.50  1.78  3.25  4.00  1.73  3.40  4.2  \n",
       "1  2.00  3.25  3.25  1.85  3.25  3.75  1.91  3.25  3.6  \n",
       "\n",
       "[2 rows x 115 columns]"
      ]
     },
     "execution_count": 9,
     "metadata": {},
     "output_type": "execute_result"
    }
   ],
   "source": [
    "df_match = pd.read_csv('./data/Match.csv')\n",
    "print(df_match.info())\n",
    "df_match.head(2)"
   ]
  },
  {
   "cell_type": "markdown",
   "metadata": {},
   "source": [
    "We can see the details in it."
   ]
  },
  {
   "cell_type": "code",
   "execution_count": 10,
   "metadata": {},
   "outputs": [
    {
     "data": {
      "text/plain": [
       "array(['2008/2009', '2009/2010', '2010/2011', '2011/2012', '2012/2013',\n",
       "       '2013/2014', '2014/2015', '2015/2016'], dtype=object)"
      ]
     },
     "execution_count": 10,
     "metadata": {},
     "output_type": "execute_result"
    }
   ],
   "source": [
    "df_match['season'].unique()"
   ]
  },
  {
   "cell_type": "code",
   "execution_count": 11,
   "metadata": {},
   "outputs": [
    {
     "data": {
      "text/plain": [
       "array([    1,  1729,  4769,  7809, 10257, 13274, 15722, 17642, 19694,\n",
       "       21518, 24558])"
      ]
     },
     "execution_count": 11,
     "metadata": {},
     "output_type": "execute_result"
    }
   ],
   "source": [
    "df_match['league_id'].unique()"
   ]
  },
  {
   "cell_type": "code",
   "execution_count": 12,
   "metadata": {},
   "outputs": [
    {
     "data": {
      "text/plain": [
       "id                      0\n",
       "country_id              0\n",
       "league_id               0\n",
       "season                  0\n",
       "stage                   0\n",
       "date                    0\n",
       "match_api_id            0\n",
       "home_team_api_id        0\n",
       "away_team_api_id        0\n",
       "home_team_goal          0\n",
       "away_team_goal          0\n",
       "home_player_X1       1821\n",
       "home_player_X2       1821\n",
       "home_player_X3       1832\n",
       "home_player_X4       1832\n",
       "home_player_X5       1832\n",
       "home_player_X6       1832\n",
       "home_player_X7       1832\n",
       "home_player_X8       1832\n",
       "home_player_X9       1832\n",
       "home_player_X10      1832\n",
       "home_player_X11      1832\n",
       "away_player_X1       1832\n",
       "away_player_X2       1832\n",
       "away_player_X3       1832\n",
       "away_player_X4       1832\n",
       "away_player_X5       1832\n",
       "away_player_X6       1832\n",
       "away_player_X7       1832\n",
       "away_player_X8       1832\n",
       "                    ...  \n",
       "B365H                3387\n",
       "B365D                3387\n",
       "B365A                3387\n",
       "BWH                  3404\n",
       "BWD                  3404\n",
       "BWA                  3404\n",
       "IWH                  3459\n",
       "IWD                  3459\n",
       "IWA                  3459\n",
       "LBH                  3423\n",
       "LBD                  3423\n",
       "LBA                  3423\n",
       "PSH                 14811\n",
       "PSD                 14811\n",
       "PSA                 14811\n",
       "WHH                  3408\n",
       "WHD                  3408\n",
       "WHA                  3408\n",
       "SJH                  8882\n",
       "SJD                  8882\n",
       "SJA                  8882\n",
       "VCH                  3411\n",
       "VCD                  3411\n",
       "VCA                  3411\n",
       "GBH                 11817\n",
       "GBD                 11817\n",
       "GBA                 11817\n",
       "BSH                 11818\n",
       "BSD                 11818\n",
       "BSA                 11818\n",
       "Length: 115, dtype: int64"
      ]
     },
     "execution_count": 12,
     "metadata": {},
     "output_type": "execute_result"
    }
   ],
   "source": [
    "df_match.isnull().sum()"
   ]
  },
  {
   "cell_type": "code",
   "execution_count": 13,
   "metadata": {},
   "outputs": [
    {
     "data": {
      "text/plain": [
       "11762"
      ]
     },
     "execution_count": 13,
     "metadata": {},
     "output_type": "execute_result"
    }
   ],
   "source": [
    "sum(df_match['goal'].isnull())"
   ]
  },
  {
   "cell_type": "markdown",
   "metadata": {},
   "source": [
    "There are more than 100 columns with over 25000 entries in Match data. And nearly half of the 'goal' attribute is null. We can do research on some key columns. "
   ]
  },
  {
   "cell_type": "markdown",
   "metadata": {},
   "source": [
    "### Data Cleaning (Replace this with more specific notes!)"
   ]
  },
  {
   "cell_type": "code",
   "execution_count": 7,
   "metadata": {},
   "outputs": [
    {
     "name": "stdout",
     "output_type": "stream",
     "text": [
      "<class 'pandas.core.frame.DataFrame'>\n",
      "Int64Index: 180354 entries, 0 to 183977\n",
      "Data columns (total 42 columns):\n",
      "id                     180354 non-null int64\n",
      "player_fifa_api_id     180354 non-null int64\n",
      "player_api_id          180354 non-null int64\n",
      "date                   180354 non-null object\n",
      "overall_rating         180354 non-null float64\n",
      "potential              180354 non-null float64\n",
      "preferred_foot         180354 non-null object\n",
      "attacking_work_rate    180354 non-null object\n",
      "defensive_work_rate    180354 non-null object\n",
      "crossing               180354 non-null float64\n",
      "finishing              180354 non-null float64\n",
      "heading_accuracy       180354 non-null float64\n",
      "short_passing          180354 non-null float64\n",
      "volleys                180354 non-null float64\n",
      "dribbling              180354 non-null float64\n",
      "curve                  180354 non-null float64\n",
      "free_kick_accuracy     180354 non-null float64\n",
      "long_passing           180354 non-null float64\n",
      "ball_control           180354 non-null float64\n",
      "acceleration           180354 non-null float64\n",
      "sprint_speed           180354 non-null float64\n",
      "agility                180354 non-null float64\n",
      "reactions              180354 non-null float64\n",
      "balance                180354 non-null float64\n",
      "shot_power             180354 non-null float64\n",
      "jumping                180354 non-null float64\n",
      "stamina                180354 non-null float64\n",
      "strength               180354 non-null float64\n",
      "long_shots             180354 non-null float64\n",
      "aggression             180354 non-null float64\n",
      "interceptions          180354 non-null float64\n",
      "positioning            180354 non-null float64\n",
      "vision                 180354 non-null float64\n",
      "penalties              180354 non-null float64\n",
      "marking                180354 non-null float64\n",
      "standing_tackle        180354 non-null float64\n",
      "sliding_tackle         180354 non-null float64\n",
      "gk_diving              180354 non-null float64\n",
      "gk_handling            180354 non-null float64\n",
      "gk_kicking             180354 non-null float64\n",
      "gk_positioning         180354 non-null float64\n",
      "gk_reflexes            180354 non-null float64\n",
      "dtypes: float64(35), int64(3), object(4)\n",
      "memory usage: 59.2+ MB\n"
     ]
    }
   ],
   "source": [
    "# After discussing the structure of the data and any problems that need to be\n",
    "#   cleaned, perform those cleaning steps in the second part of this section.\n",
    "\n",
    "# First Let's drop the null values in player_attributes\n",
    "df_player_attributes.dropna(inplace=True);\n",
    "df_player_attributes.info();"
   ]
  },
  {
   "cell_type": "markdown",
   "metadata": {},
   "source": [
    "Now this data is OK. Let's check our guess on team_attribute. We have found some null values before."
   ]
  },
  {
   "cell_type": "code",
   "execution_count": 15,
   "metadata": {},
   "outputs": [
    {
     "name": "stdout",
     "output_type": "stream",
     "text": [
      "['Little' 'Normal' 'Lots']\n"
     ]
    },
    {
     "data": {
      "text/plain": [
       "array(['Little'], dtype=object)"
      ]
     },
     "execution_count": 15,
     "metadata": {},
     "output_type": "execute_result"
    }
   ],
   "source": [
    "# see all the buildUpPlayDribblingClass values and what value is null\n",
    "print(df_team_attributes['buildUpPlayDribblingClass'].unique())\n",
    "df_team_attributes[df_team_attributes['buildUpPlayDribbling'].isnull()]['buildUpPlayDribblingClass'].unique()"
   ]
  },
  {
   "cell_type": "code",
   "execution_count": 21,
   "metadata": {},
   "outputs": [
    {
     "data": {
      "text/plain": [
       "array([nan, 32., 30., 29., 24., 31., 33., 28., 26., 27.])"
      ]
     },
     "execution_count": 21,
     "metadata": {},
     "output_type": "execute_result"
    }
   ],
   "source": [
    "# see the details\n",
    "df_team_attributes[df_team_attributes['buildUpPlayDribblingClass'] == 'Little']['buildUpPlayDribbling'].unique()"
   ]
  },
  {
   "cell_type": "code",
   "execution_count": 17,
   "metadata": {},
   "outputs": [
    {
     "data": {
      "text/plain": [
       "array([48., 41., 64., 57., 53., 47., 40., 43., 46., 61., 49., 66., 51.,\n",
       "       37., 45., 52., 50., 38., 55., 35., 63., 34., 39., 60., 44., 36.,\n",
       "       56., 54., 59., 58., 42., 62., 65.])"
      ]
     },
     "execution_count": 17,
     "metadata": {},
     "output_type": "execute_result"
    }
   ],
   "source": [
    "df_team_attributes[df_team_attributes['buildUpPlayDribblingClass'] == 'Normal']['buildUpPlayDribbling'].unique()"
   ]
  },
  {
   "cell_type": "code",
   "execution_count": 18,
   "metadata": {},
   "outputs": [
    {
     "data": {
      "text/plain": [
       "array([70., 69., 67., 77., 68., 71., 74.])"
      ]
     },
     "execution_count": 18,
     "metadata": {},
     "output_type": "execute_result"
    }
   ],
   "source": [
    "df_team_attributes[df_team_attributes['buildUpPlayDribblingClass'] == 'Lots']['buildUpPlayDribbling'].unique()"
   ]
  },
  {
   "cell_type": "markdown",
   "metadata": {},
   "source": [
    "Now our guess is true. When buildUpPlayDribblingClass is Little, the buildUpPlayDribbling is NaN. We can consider use the mean value to take place of the NaN values."
   ]
  },
  {
   "cell_type": "code",
   "execution_count": 22,
   "metadata": {},
   "outputs": [
    {
     "name": "stdout",
     "output_type": "stream",
     "text": [
      "34.0\n"
     ]
    }
   ],
   "source": [
    "print(df_team_attributes.query('buildUpPlayDribblingClass == \"Normal\"')['buildUpPlayDribbling'].min())\n",
    "mean_buildUpPlayDribbling = df_team_attributes.query('buildUpPlayDribblingClass == \"Little\"')['buildUpPlayDribbling'].mean()"
   ]
  },
  {
   "cell_type": "code",
   "execution_count": 23,
   "metadata": {},
   "outputs": [
    {
     "data": {
      "text/plain": [
       "0"
      ]
     },
     "execution_count": 23,
     "metadata": {},
     "output_type": "execute_result"
    }
   ],
   "source": [
    "# use the mean value to fill and check it\n",
    "df_team_attributes.fillna(mean_buildUpPlayDribbling, inplace=True)\n",
    "df_team_attributes['buildUpPlayDribbling'].isnull().sum()"
   ]
  },
  {
   "cell_type": "markdown",
   "metadata": {},
   "source": [
    "<a id='eda'></a>\n",
    "## Exploratory Data Analysis\n",
    "\n",
    "\n",
    "### Question 1: In 2015/2016 season, which league has the most mean goals? Which teams have the most mean scores respectively？ What about mean fumbles?"
   ]
  },
  {
   "cell_type": "code",
   "execution_count": 24,
   "metadata": {},
   "outputs": [],
   "source": [
    "# Use this, and more code cells, to explore your data. Don't forget to add\n",
    "#   Markdown cells to document your observations and findings.\n",
    "\n",
    "def get_league_data(df, league_id, season):\n",
    "    \"\"\" get one league data by league_id and season from Match file\n",
    "    \"\"\"\n",
    "    columns = ['id', 'league_id', 'season', 'match_api_id', 'home_team_api_id', 'away_team_api_id', 'home_team_goal', 'away_team_goal']\n",
    "    df_match = df[(df['league_id'] == league_id) & (df['season'] == season)]\n",
    "    return df_match.loc[:, columns]"
   ]
  },
  {
   "cell_type": "code",
   "execution_count": 564,
   "metadata": {},
   "outputs": [],
   "source": [
    "def process_float(data):\n",
    "    return float(\"{0:.2f}\".format(data))"
   ]
  },
  {
   "cell_type": "code",
   "execution_count": 562,
   "metadata": {},
   "outputs": [],
   "source": [
    "# get total goals in a league\n",
    "def get_league_mean_goals(df):\n",
    "    matches = float(len(df.index))\n",
    "    total_scores = df['home_team_goal'].sum() + df['away_team_goal'].sum()\n",
    "    return process_float(total_scores / matches)"
   ]
  },
  {
   "cell_type": "code",
   "execution_count": 560,
   "metadata": {},
   "outputs": [],
   "source": [
    "def get_team_mean_goals(df):\n",
    "    \"\"\"find the most mean goals and the team. Assume they have the same number of matches\n",
    "    \"\"\"\n",
    "    # For the team_goals, the key is team_id, the value is three-element list.\n",
    "    # In the list, the first element is goals, the second element is fumbles, the third is number of matches\n",
    "    team_goals = {}\n",
    "    for row in df.itertuples():\n",
    "        home_team = row[5]\n",
    "        away_team = row[6]\n",
    "        home_team_goal = row[7]\n",
    "        away_team_goal = row[8]\n",
    "\n",
    "        if team_goals.get(home_team) is None:\n",
    "            team_goals[home_team] = [0] * 3\n",
    "            team_goals[home_team][0] = home_team_goal\n",
    "            team_goals[home_team][1] = away_team_goal\n",
    "            team_goals[home_team][2] = 1\n",
    "        else:\n",
    "            team_goals[home_team][0] += home_team_goal\n",
    "            team_goals[home_team][1] += away_team_goal\n",
    "            team_goals[home_team][2] += 1\n",
    "\n",
    "        if team_goals.get(away_team) is None:\n",
    "            team_goals[away_team] = [0] * 3\n",
    "            team_goals[away_team][0] = away_team_goal\n",
    "            team_goals[away_team][1] += home_team_goal\n",
    "            team_goals[away_team][2] = 1\n",
    "        else:\n",
    "            team_goals[away_team][0] += away_team_goal\n",
    "            team_goals[away_team][1] += home_team_goal\n",
    "            team_goals[away_team][2] += 1\n",
    "    team_goals = sorted(team_goals.items(), key=lambda d: d[1][0], reverse=True)\n",
    "    max_goals_team = team_goals[0][0]\n",
    "    goals = team_goals[0][1][0]\n",
    "    fumbles = team_goals[0][1][1]\n",
    "    matches = float(team_goals[0][1][2])\n",
    "    max_mean_goals = process_float(goals / matches)\n",
    "    mean_fumbles = process_float(fumbles / matches)\n",
    "    return max_goals_team, max_mean_goals, mean_fumbles"
   ]
  },
  {
   "cell_type": "code",
   "execution_count": 29,
   "metadata": {},
   "outputs": [],
   "source": [
    "def plot_goals_bar(league_list, league_goals_list, team_list, team_goals_list, team_fumbles_list):\n",
    "    fig = plt.figure(figsize=(12, 6))\n",
    "    l = len(league_list)\n",
    "    ind = np.arange(l)\n",
    "    league_list = [league_list[i] + \"\\n\" + str(team_list[i]) for i in range(l)]\n",
    "    league = fig.add_subplot(111)\n",
    "    team = league.twinx()\n",
    "    \n",
    "    league.set_ylim(2.0, 3.2)\n",
    "    team.set_ylim(0, 4)\n",
    "    league.set_xlabel('Country', fontsize=12)\n",
    "    league.set_ylabel('League Mean Goals', fontsize=12)\n",
    "    team.set_ylabel('Top Team Mean Goals and Fumbles', fontsize=12)\n",
    "    league.bar(ind, league_goals_list)\n",
    "    plt.xticks(ind, league_list)\n",
    "    p1 = plt.plot(ind, team_goals_list, 'bo', ind, team_goals_list, 'k', color='g')\n",
    "    p2 = plt.plot(ind, team_fumbles_list, 'bo', ind, team_fumbles_list, 'k', color='r')\n",
    "    \n",
    "    plt.legend((p1[0], p2[0]), ('goals', \"fumbles\"), loc=9)\n",
    "    plt.show()"
   ]
  },
  {
   "cell_type": "code",
   "execution_count": 563,
   "metadata": {},
   "outputs": [
    {
     "data": {
      "image/png": "[encoded data removed]",
      "text/plain": [
       "<matplotlib.figure.Figure at 0x1a321b30f0>"
      ]
     },
     "metadata": {},
     "output_type": "display_data"
    }
   ],
   "source": [
    "# plot the league data in 2015/2016 season\n",
    "league_id_list = list(df_league['id'])\n",
    "season = '2015/2016'\n",
    "league_country_list = []\n",
    "league_mean_goals_list = []\n",
    "team_list = []\n",
    "team_goals_list = []\n",
    "team_fumbles_list = []\n",
    "for league_id in league_id_list:\n",
    "    league = df_league[df_league['id'] == league_id]\n",
    "    # mean_goals-country\n",
    "    league_country = str(league['name']).split()[1]\n",
    "    league_country_list.append(league_country)\n",
    "    \n",
    "    df_league_data = get_league_data(df_match, league_id, season)\n",
    "    league_mean_goals = get_league_mean_goals(df_league_data)\n",
    "    league_mean_goals_list.append(league_mean_goals)\n",
    "\n",
    "    team, goals, fumbles = get_team_mean_goals(df_league_data)\n",
    "    team_list.append(team)\n",
    "    team_goals_list.append(goals)\n",
    "    team_fumbles_list.append(fumbles)\n",
    "plot_goals_bar(league_country_list, league_mean_goals_list, team_list, team_goals_list, team_fumbles_list)\n"
   ]
  },
  {
   "cell_type": "markdown",
   "metadata": {},
   "source": [
    "The xlabel is the league country and its best team id. The left yaxis is the the bar data and right yaxis is the line data."
   ]
  },
  {
   "cell_type": "markdown",
   "metadata": {},
   "source": [
    "### Question 2: What is the win rate for the best team that ranks first in England Premier League, Germany 1. Bundesliga, Italy Serie A and Spain LIGA BBVA in 2015/2016 season separately？"
   ]
  },
  {
   "cell_type": "code",
   "execution_count": null,
   "metadata": {},
   "outputs": [],
   "source": [
    "# Continue to explore the data to address your additional research\n",
    "#   questions. Add more headers as needed if you have more questions to\n",
    "#   investigate.\n"
   ]
  },
  {
   "cell_type": "code",
   "execution_count": 31,
   "metadata": {},
   "outputs": [],
   "source": [
    "# get points according to the rule three points for a win\n",
    "# https://en.wikipedia.org/wiki/Three_points_for_a_win\n",
    "def get_best_team_result(df):\n",
    "    \"\"\" get team and win rate, tie rate, lose rate\n",
    "    \"\"\"\n",
    "    team_points = {}\n",
    "    for row in df.itertuples():\n",
    "        home_team = row[8]\n",
    "        away_team = row[9]\n",
    "        home_team_goal = row[10]\n",
    "        away_team_goal = row[11]\n",
    "        result = home_team_goal - away_team_goal\n",
    "\n",
    "        # this four-element list means numbers of win, tie, lose and total points\n",
    "        if team_points.get(home_team) is None:\n",
    "            home_team_result = [0] * 4\n",
    "            team_points[home_team] = home_team_result\n",
    "        if team_points.get(away_team) is None:\n",
    "            away_team_result = [0] * 4\n",
    "            team_points[away_team] = away_team_result\n",
    "\n",
    "        # home win\n",
    "        if result > 0:\n",
    "            team_points[home_team][0] += 1\n",
    "            team_points[away_team][2] += 1\n",
    "        # tie\n",
    "        elif result == 0:\n",
    "            team_points[home_team][1] += 1\n",
    "            team_points[away_team][1] += 1\n",
    "        # away win\n",
    "        else:\n",
    "            team_points[away_team][0] += 1\n",
    "            team_points[home_team][2] += 1\n",
    "\n",
    "    for team in team_points.keys():\n",
    "        team_points[team][3] = 3 * team_points[team][0] + team_points[team][1]\n",
    "\n",
    "    team_points = sorted(team_points.items(), key=lambda d: d[1][3], reverse=True)\n",
    "    matches = team_points[0][1][0] + team_points[0][1][1] + team_points[0][1][2]\n",
    "    # win rate, tie rate, lose rate\n",
    "    win_rate = get_percentage(team_points[0][1][0] / matches)\n",
    "    tie_rate = get_percentage(team_points[0][1][1] / matches)\n",
    "    lose_rate = get_percentage(team_points[0][1][2] / matches)\n",
    "    return {team_points[0][0]: [win_rate, tie_rate, lose_rate]}"
   ]
  },
  {
   "cell_type": "code",
   "execution_count": 32,
   "metadata": {},
   "outputs": [],
   "source": [
    "def plot_team_line(team_list, win_list, tie_list, lose_list):\n",
    "    # fig = plt.figure(figsize=(12, 6))\n",
    "    ind = np.arange(len(team_list))\n",
    "    win_list = np.array(win_list)\n",
    "    tie_list = np.array(tie_list)\n",
    "    lose_list = np.array(lose_list)\n",
    "    p1 = plt.bar(ind, lose_list, width=0.5, color='r')\n",
    "    p2 = plt.bar(ind, tie_list, width=0.5, bottom=lose_list, color='b')\n",
    "    p3 = plt.bar(ind, win_list, width=0.5, bottom=tie_list+lose_list, color='g')\n",
    "    plt.ylim([0, 1])\n",
    "    plt.legend((p1[0], p2[0], p3[0]), ('lose', 'tie', 'win'), loc=1)\n",
    "    plt.xticks(ind, team_list)\n",
    "    plt.show()"
   ]
  },
  {
   "cell_type": "code",
   "execution_count": 34,
   "metadata": {},
   "outputs": [
    {
     "data": {
      "image/png": "[encoded data removed]",
      "text/plain": [
       "<matplotlib.figure.Figure at 0x1120d8a58>"
      ]
     },
     "metadata": {},
     "output_type": "display_data"
    }
   ],
   "source": [
    "# England, Germany, Italy, Spain League\n",
    "df_team_attribute = pd.read_csv('./data/Team_Attributes.csv')\n",
    "leagues_list = {1729: 'England', 7809: 'Germany', 10257: 'Italy', 21518: 'Spain'}\n",
    "best_teams = []\n",
    "team_list = []\n",
    "win_list = []\n",
    "tie_list = []\n",
    "lose_list = []\n",
    "for league_id in leagues_list.keys():\n",
    "    df_league_match = df_match[(df_match['season'] == season) & (df_match['league_id'] == league_id)]\n",
    "    best_team = get_best_team_result(df_league_match)\n",
    "    key = leagues_list[league_id] + \"\\n\" + str(list(best_team.keys())[0])\n",
    "    team_list.append(key)\n",
    "    value = list(best_team.values())\n",
    "    win_list.append(value[0][0])\n",
    "    tie_list.append(value[0][1])\n",
    "    lose_list.append(value[0][2])\n",
    "plot_team_line(team_list, win_list, tie_list, lose_list)\n"
   ]
  },
  {
   "cell_type": "markdown",
   "metadata": {},
   "source": [
    "### Question 3: What is the difference between fastest team and the mean team attributes?"
   ]
  },
  {
   "cell_type": "code",
   "execution_count": 35,
   "metadata": {},
   "outputs": [],
   "source": [
    "def plot_team_attributes(mean_team_attribute, fastest_team_attribute):\n",
    "    ind = np.arange(len(mean_team_attribute))\n",
    "    plt.figure(figsize=(14, 6))\n",
    "    p1 = plt.plot(ind, mean_team_attribute, 'bo', ind, mean_team_attribute, 'k', color='g')\n",
    "    p2 = plt.plot(ind, fastest_team_attribute, 'bo', ind, fastest_team_attribute, 'k', color='b')\n",
    "    plt.legend((p1[0], p2[0]), ('Mean', 'Fast'))\n",
    "    plt.xticks(ind, new_labels)\n",
    "    plt.xlabel('Team Attributes', fontsize=12, weight='bold')\n",
    "    plt.ylabel('Index', fontsize=12, weight='bold')\n",
    "    plt.show()"
   ]
  },
  {
   "cell_type": "code",
   "execution_count": 566,
   "metadata": {},
   "outputs": [
    {
     "ename": "IndexError",
     "evalue": "positional indexers are out-of-bounds",
     "output_type": "error",
     "traceback": [
      "\u001b[0;31m---------------------------------------------------------------------------\u001b[0m",
      "\u001b[0;31mIndexError\u001b[0m                                Traceback (most recent call last)",
      "\u001b[0;32m<ipython-input-566-093c5930d3f6>\u001b[0m in \u001b[0;36m<module>\u001b[0;34m()\u001b[0m\n\u001b[1;32m      3\u001b[0m               \u001b[0;34m'chanceCreation\\nPassing'\u001b[0m\u001b[0;34m,\u001b[0m \u001b[0;34m'chanceCreation\\nCrossing'\u001b[0m\u001b[0;34m,\u001b[0m \u001b[0;34m'chanceCreation\\nShooting'\u001b[0m\u001b[0;34m,\u001b[0m\u001b[0;34m\u001b[0m\u001b[0m\n\u001b[1;32m      4\u001b[0m               'defence\\nPressure', 'defence\\nAggression', 'defence\\nTeamWidth']\n\u001b[0;32m----> 5\u001b[0;31m \u001b[0mdf_team_attribute\u001b[0m \u001b[0;34m=\u001b[0m \u001b[0mdf_team_attribute\u001b[0m\u001b[0;34m.\u001b[0m\u001b[0miloc\u001b[0m\u001b[0;34m[\u001b[0m\u001b[0;34m:\u001b[0m\u001b[0;34m,\u001b[0m \u001b[0mnp\u001b[0m\u001b[0;34m.\u001b[0m\u001b[0mr_\u001b[0m\u001b[0;34m[\u001b[0m\u001b[0;36m4\u001b[0m\u001b[0;34m,\u001b[0m \u001b[0;36m6\u001b[0m\u001b[0;34m,\u001b[0m \u001b[0;36m8\u001b[0m\u001b[0;34m,\u001b[0m \u001b[0;36m11\u001b[0m\u001b[0;34m,\u001b[0m \u001b[0;36m13\u001b[0m\u001b[0;34m,\u001b[0m \u001b[0;36m15\u001b[0m\u001b[0;34m,\u001b[0m \u001b[0;36m18\u001b[0m\u001b[0;34m,\u001b[0m \u001b[0;36m20\u001b[0m\u001b[0;34m,\u001b[0m \u001b[0;36m22\u001b[0m\u001b[0;34m]\u001b[0m\u001b[0;34m]\u001b[0m\u001b[0;34m\u001b[0m\u001b[0m\n\u001b[0m\u001b[1;32m      6\u001b[0m \u001b[0mdf_team_attribute\u001b[0m\u001b[0;34m.\u001b[0m\u001b[0mcolumns\u001b[0m \u001b[0;34m=\u001b[0m \u001b[0mnew_labels\u001b[0m\u001b[0;34m\u001b[0m\u001b[0m\n\u001b[1;32m      7\u001b[0m \u001b[0mmean_team_attributes\u001b[0m \u001b[0;34m=\u001b[0m \u001b[0mdf_team_attribute\u001b[0m\u001b[0;34m.\u001b[0m\u001b[0mmean\u001b[0m\u001b[0;34m(\u001b[0m\u001b[0;34m)\u001b[0m\u001b[0;34m\u001b[0m\u001b[0m\n",
      "\u001b[0;32m~/anaconda3/lib/python3.6/site-packages/pandas/core/indexing.py\u001b[0m in \u001b[0;36m__getitem__\u001b[0;34m(self, key)\u001b[0m\n\u001b[1;32m   1365\u001b[0m             \u001b[0;32mexcept\u001b[0m \u001b[0;34m(\u001b[0m\u001b[0mKeyError\u001b[0m\u001b[0;34m,\u001b[0m \u001b[0mIndexError\u001b[0m\u001b[0;34m)\u001b[0m\u001b[0;34m:\u001b[0m\u001b[0;34m\u001b[0m\u001b[0m\n\u001b[1;32m   1366\u001b[0m                 \u001b[0;32mpass\u001b[0m\u001b[0;34m\u001b[0m\u001b[0m\n\u001b[0;32m-> 1367\u001b[0;31m             \u001b[0;32mreturn\u001b[0m \u001b[0mself\u001b[0m\u001b[0;34m.\u001b[0m\u001b[0m_getitem_tuple\u001b[0m\u001b[0;34m(\u001b[0m\u001b[0mkey\u001b[0m\u001b[0;34m)\u001b[0m\u001b[0;34m\u001b[0m\u001b[0m\n\u001b[0m\u001b[1;32m   1368\u001b[0m         \u001b[0;32melse\u001b[0m\u001b[0;34m:\u001b[0m\u001b[0;34m\u001b[0m\u001b[0m\n\u001b[1;32m   1369\u001b[0m             \u001b[0;31m# we by definition only have the 0th axis\u001b[0m\u001b[0;34m\u001b[0m\u001b[0;34m\u001b[0m\u001b[0m\n",
      "\u001b[0;32m~/anaconda3/lib/python3.6/site-packages/pandas/core/indexing.py\u001b[0m in \u001b[0;36m_getitem_tuple\u001b[0;34m(self, tup)\u001b[0m\n\u001b[1;32m   1735\u001b[0m     \u001b[0;32mdef\u001b[0m \u001b[0m_getitem_tuple\u001b[0m\u001b[0;34m(\u001b[0m\u001b[0mself\u001b[0m\u001b[0;34m,\u001b[0m \u001b[0mtup\u001b[0m\u001b[0;34m)\u001b[0m\u001b[0;34m:\u001b[0m\u001b[0;34m\u001b[0m\u001b[0m\n\u001b[1;32m   1736\u001b[0m \u001b[0;34m\u001b[0m\u001b[0m\n\u001b[0;32m-> 1737\u001b[0;31m         \u001b[0mself\u001b[0m\u001b[0;34m.\u001b[0m\u001b[0m_has_valid_tuple\u001b[0m\u001b[0;34m(\u001b[0m\u001b[0mtup\u001b[0m\u001b[0;34m)\u001b[0m\u001b[0;34m\u001b[0m\u001b[0m\n\u001b[0m\u001b[1;32m   1738\u001b[0m         \u001b[0;32mtry\u001b[0m\u001b[0;34m:\u001b[0m\u001b[0;34m\u001b[0m\u001b[0m\n\u001b[1;32m   1739\u001b[0m             \u001b[0;32mreturn\u001b[0m \u001b[0mself\u001b[0m\u001b[0;34m.\u001b[0m\u001b[0m_getitem_lowerdim\u001b[0m\u001b[0;34m(\u001b[0m\u001b[0mtup\u001b[0m\u001b[0;34m)\u001b[0m\u001b[0;34m\u001b[0m\u001b[0m\n",
      "\u001b[0;32m~/anaconda3/lib/python3.6/site-packages/pandas/core/indexing.py\u001b[0m in \u001b[0;36m_has_valid_tuple\u001b[0;34m(self, key)\u001b[0m\n\u001b[1;32m    202\u001b[0m             \u001b[0;32mif\u001b[0m \u001b[0mi\u001b[0m \u001b[0;34m>=\u001b[0m \u001b[0mself\u001b[0m\u001b[0;34m.\u001b[0m\u001b[0mobj\u001b[0m\u001b[0;34m.\u001b[0m\u001b[0mndim\u001b[0m\u001b[0;34m:\u001b[0m\u001b[0;34m\u001b[0m\u001b[0m\n\u001b[1;32m    203\u001b[0m                 \u001b[0;32mraise\u001b[0m \u001b[0mIndexingError\u001b[0m\u001b[0;34m(\u001b[0m\u001b[0;34m'Too many indexers'\u001b[0m\u001b[0;34m)\u001b[0m\u001b[0;34m\u001b[0m\u001b[0m\n\u001b[0;32m--> 204\u001b[0;31m             \u001b[0;32mif\u001b[0m \u001b[0;32mnot\u001b[0m \u001b[0mself\u001b[0m\u001b[0;34m.\u001b[0m\u001b[0m_has_valid_type\u001b[0m\u001b[0;34m(\u001b[0m\u001b[0mk\u001b[0m\u001b[0;34m,\u001b[0m \u001b[0mi\u001b[0m\u001b[0;34m)\u001b[0m\u001b[0;34m:\u001b[0m\u001b[0;34m\u001b[0m\u001b[0m\n\u001b[0m\u001b[1;32m    205\u001b[0m                 raise ValueError(\"Location based indexing can only have \"\n\u001b[1;32m    206\u001b[0m                                  \u001b[0;34m\"[{types}] types\"\u001b[0m\u001b[0;34m\u001b[0m\u001b[0m\n",
      "\u001b[0;32m~/anaconda3/lib/python3.6/site-packages/pandas/core/indexing.py\u001b[0m in \u001b[0;36m_has_valid_type\u001b[0;34m(self, key, axis)\u001b[0m\n\u001b[1;32m   1672\u001b[0m             \u001b[0;32mreturn\u001b[0m \u001b[0mself\u001b[0m\u001b[0;34m.\u001b[0m\u001b[0m_is_valid_integer\u001b[0m\u001b[0;34m(\u001b[0m\u001b[0mkey\u001b[0m\u001b[0;34m,\u001b[0m \u001b[0maxis\u001b[0m\u001b[0;34m)\u001b[0m\u001b[0;34m\u001b[0m\u001b[0m\n\u001b[1;32m   1673\u001b[0m         \u001b[0;32melif\u001b[0m \u001b[0mis_list_like_indexer\u001b[0m\u001b[0;34m(\u001b[0m\u001b[0mkey\u001b[0m\u001b[0;34m)\u001b[0m\u001b[0;34m:\u001b[0m\u001b[0;34m\u001b[0m\u001b[0m\n\u001b[0;32m-> 1674\u001b[0;31m             \u001b[0;32mreturn\u001b[0m \u001b[0mself\u001b[0m\u001b[0;34m.\u001b[0m\u001b[0m_is_valid_list_like\u001b[0m\u001b[0;34m(\u001b[0m\u001b[0mkey\u001b[0m\u001b[0;34m,\u001b[0m \u001b[0maxis\u001b[0m\u001b[0;34m)\u001b[0m\u001b[0;34m\u001b[0m\u001b[0m\n\u001b[0m\u001b[1;32m   1675\u001b[0m         \u001b[0;32mreturn\u001b[0m \u001b[0;32mFalse\u001b[0m\u001b[0;34m\u001b[0m\u001b[0m\n\u001b[1;32m   1676\u001b[0m \u001b[0;34m\u001b[0m\u001b[0m\n",
      "\u001b[0;32m~/anaconda3/lib/python3.6/site-packages/pandas/core/indexing.py\u001b[0m in \u001b[0;36m_is_valid_list_like\u001b[0;34m(self, key, axis)\u001b[0m\n\u001b[1;32m   1729\u001b[0m         if (hasattr(arr, '__len__') and len(arr) and\n\u001b[1;32m   1730\u001b[0m                 (arr.max() >= l or arr.min() < -l)):\n\u001b[0;32m-> 1731\u001b[0;31m             \u001b[0;32mraise\u001b[0m \u001b[0mIndexError\u001b[0m\u001b[0;34m(\u001b[0m\u001b[0;34m\"positional indexers are out-of-bounds\"\u001b[0m\u001b[0;34m)\u001b[0m\u001b[0;34m\u001b[0m\u001b[0m\n\u001b[0m\u001b[1;32m   1732\u001b[0m \u001b[0;34m\u001b[0m\u001b[0m\n\u001b[1;32m   1733\u001b[0m         \u001b[0;32mreturn\u001b[0m \u001b[0;32mTrue\u001b[0m\u001b[0;34m\u001b[0m\u001b[0m\n",
      "\u001b[0;31mIndexError\u001b[0m: positional indexers are out-of-bounds"
     ]
    }
   ],
   "source": [
    "# choose some columns and rename them\n",
    "new_labels = ['buildUpPlay\\nSpeed', 'buildUpPlay\\nDribbling', 'buildUpPlay\\nPassing',\n",
    "              'chanceCreation\\nPassing', 'chanceCreation\\nCrossing', 'chanceCreation\\nShooting',\n",
    "              'defence\\nPressure', 'defence\\nAggression', 'defence\\nTeamWidth']\n",
    "df_team_attribute = df_team_attribute.iloc[:, np.r_[4, 6, 8, 11, 13, 15, 18, 20, 22]]\n",
    "df_team_attribute.columns = new_labels\n",
    "mean_team_attributes = df_team_attribute.mean()\n",
    "fastest_team_mean_attributes = df_team_attribute[\n",
    "    df_team_attribute['buildUpPlay\\nSpeed'] == df_team_attribute['buildUpPlay\\nSpeed'].max()].mean()\n",
    "plot_team_attributes(mean_team_attributes, fastest_team_mean_attributes) "
   ]
  },
  {
   "cell_type": "markdown",
   "metadata": {},
   "source": [
    "<a id='conclusions'></a>\n",
    "## Conclusions"
   ]
  },
  {
   "cell_type": "markdown",
   "metadata": {
    "collapsed": true
   },
   "source": [
    "In all the leagues, Switzerland has the most mean goals. There are more three goals per match. For all their most-goals teams, Spain team 8634 has the highest mean goals, also nearly three goals per match. The France team 9847 followed it, but has the lowest fumbles, about 0.5, which indicates it has a good balance between attacking and defending.\n",
    "\n",
    "For England, Germany, Italy, Spain four Leagues, Germany team 9823 has highest win rate over 80% and lowest lose rate in 2015/2016 season. England team 8197 has lowest win rate and highest tie rate. It is a little conservative in these four teams.\n",
    "\n",
    "For the buildUpPlaySpeed fastest team, compared with mean team attributes, it has much higher passing no matter buildUpPlayPass or chanceCreationPassing, and lower chanceCreation in crossing and shooting, and much lower defencePressure."
   ]
  }
 ],
 "metadata": {
  "kernelspec": {
   "display_name": "Python 3",
   "language": "python",
   "name": "python3"
  },
  "language_info": {
   "codemirror_mode": {
    "name": "ipython",
    "version": 3
   },
   "file_extension": ".py",
   "mimetype": "text/x-python",
   "name": "python",
   "nbconvert_exporter": "python",
   "pygments_lexer": "ipython3",
   "version": "3.6.4"
  }
 },
 "nbformat": 4,
 "nbformat_minor": 2
}

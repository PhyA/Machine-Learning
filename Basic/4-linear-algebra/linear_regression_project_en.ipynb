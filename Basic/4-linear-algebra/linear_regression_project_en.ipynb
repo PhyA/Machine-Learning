{
 "cells": [
  {
   "cell_type": "markdown",
   "metadata": {},
   "source": [
    "# 1 Matrix operations\n",
    "\n",
    "## 1.1 Create a 4*4 identity matrix"
   ]
  },
  {
   "cell_type": "code",
   "execution_count": 1,
   "metadata": {},
   "outputs": [],
   "source": [
    "#This project is designed to get familiar with python list and linear algebra\n",
    "#You cannot use import any library yourself, especially numpy\n",
    "\n",
    "A = [[1,2,3], \n",
    "     [2,3,3], \n",
    "     [1,2,5]]\n",
    "\n",
    "B = [[1,2,3,5], \n",
    "     [2,3,3,5], \n",
    "     [1,2,5,1]]\n",
    "\n",
    "#TODO create a 4*4 identity matrix \n",
    "I = [[1,0,0,0],\n",
    "     [0,1,0,0],\n",
    "     [0,0,1,0],\n",
    "     [0,0,0,1]]"
   ]
  },
  {
   "cell_type": "markdown",
   "metadata": {},
   "source": [
    "## 1.2 get the width and height of a matrix. "
   ]
  },
  {
   "cell_type": "code",
   "execution_count": 2,
   "metadata": {},
   "outputs": [],
   "source": [
    "#TODO Get the height and weight of a matrix.\n",
    "def shape(M):\n",
    "    height = len(M)\n",
    "    weight = 0\n",
    "    if height > 0:\n",
    "        weight = len(M[0])\n",
    "    return height,weight"
   ]
  },
  {
   "cell_type": "code",
   "execution_count": 3,
   "metadata": {},
   "outputs": [
    {
     "name": "stderr",
     "output_type": "stream",
     "text": [
      ".\n",
      "----------------------------------------------------------------------\n",
      "Ran 1 test in 0.002s\n",
      "\n",
      "OK\n"
     ]
    }
   ],
   "source": [
    "# run following code to test your shape function\n",
    "%run -i -e test.py LinearRegressionTestCase.test_shape"
   ]
  },
  {
   "cell_type": "markdown",
   "metadata": {},
   "source": [
    "## 1.3 round all elements in M to certain decimal points"
   ]
  },
  {
   "cell_type": "code",
   "execution_count": 4,
   "metadata": {},
   "outputs": [],
   "source": [
    "# TODO in-place operation, no return value\n",
    "# TODO round all elements in M to decPts\n",
    "def matxRound(M, decPts=4):\n",
    "    for row, rowList in enumerate(M):\n",
    "        for col, value in enumerate(rowList):\n",
    "            M[row][col] = round(value, decPts)"
   ]
  },
  {
   "cell_type": "code",
   "execution_count": 5,
   "metadata": {},
   "outputs": [
    {
     "name": "stderr",
     "output_type": "stream",
     "text": [
      ".\n",
      "----------------------------------------------------------------------\n",
      "Ran 1 test in 0.006s\n",
      "\n",
      "OK\n"
     ]
    }
   ],
   "source": [
    "# run following code to test your matxRound function\n",
    "%run -i -e test.py LinearRegressionTestCase.test_matxRound"
   ]
  },
  {
   "cell_type": "markdown",
   "metadata": {},
   "source": [
    "## 1.4 compute transpose of M"
   ]
  },
  {
   "cell_type": "code",
   "execution_count": 6,
   "metadata": {},
   "outputs": [],
   "source": [
    "#TODO compute transpose of M\n",
    "def transpose(M):\n",
    "    result = []\n",
    "    for row, rowList in enumerate(M):\n",
    "        for col, value in enumerate(rowList):\n",
    "            if row == 0:\n",
    "                result.append([])\n",
    "            result[col].append(value)\n",
    "    return result"
   ]
  },
  {
   "cell_type": "code",
   "execution_count": 7,
   "metadata": {},
   "outputs": [
    {
     "name": "stderr",
     "output_type": "stream",
     "text": [
      ".\n",
      "----------------------------------------------------------------------\n",
      "Ran 1 test in 0.007s\n",
      "\n",
      "OK\n"
     ]
    }
   ],
   "source": [
    "# run following code to test your transpose function\n",
    "%run -i -e test.py LinearRegressionTestCase.test_transpose"
   ]
  },
  {
   "cell_type": "markdown",
   "metadata": {},
   "source": [
    "## 1.5 compute AB. return None if the dimensions don't match"
   ]
  },
  {
   "cell_type": "code",
   "execution_count": 8,
   "metadata": {},
   "outputs": [],
   "source": [
    "#TODO compute matrix multiplication AB, return None if the dimensions don't match\n",
    "def matxMultiply(A, B):\n",
    "    height_A, weight_A = shape(A)\n",
    "    height_B, weight_B = shape(B)\n",
    "    \n",
    "    DIMENSIONS_NOT_MATCH = \"Matrix A's column number doesn't equal to Matrix b's row number\"\n",
    "        \n",
    "    if weight_A != height_B:\n",
    "        raise ValueError(DIMENSIONS_NOT_MATCH)\n",
    "\n",
    "    result = []\n",
    "    for k in range(weight_B):\n",
    "        for row, rowList in enumerate(A):\n",
    "            if k == 0:\n",
    "                result.append([])\n",
    "            value = 0.0\n",
    "            for col in range(weight_A):\n",
    "                value += A[row][col] * B[col][k]\n",
    "            result[row].append(value)\n",
    "\n",
    "    return result"
   ]
  },
  {
   "cell_type": "code",
   "execution_count": 9,
   "metadata": {},
   "outputs": [
    {
     "name": "stderr",
     "output_type": "stream",
     "text": [
      ".\n",
      "----------------------------------------------------------------------\n",
      "Ran 1 test in 0.038s\n",
      "\n",
      "OK\n"
     ]
    }
   ],
   "source": [
    "# run following code to test your matxMultiply function\n",
    "%run -i -e test.py LinearRegressionTestCase.test_matxMultiply"
   ]
  },
  {
   "cell_type": "markdown",
   "metadata": {},
   "source": [
    "---\n",
    "\n",
    "# 2 Gaussian Jordan Elimination\n",
    "\n",
    "## 2.1 Compute augmented Matrix \n",
    "\n",
    "$ A = \\begin{bmatrix}\n",
    "    a_{11}    & a_{12} & ... & a_{1n}\\\\\n",
    "    a_{21}    & a_{22} & ... & a_{2n}\\\\\n",
    "    a_{31}    & a_{22} & ... & a_{3n}\\\\\n",
    "    ...    & ... & ... & ...\\\\\n",
    "    a_{n1}    & a_{n2} & ... & a_{nn}\\\\\n",
    "\\end{bmatrix} , b = \\begin{bmatrix}\n",
    "    b_{1}  \\\\\n",
    "    b_{2}  \\\\\n",
    "    b_{3}  \\\\\n",
    "    ...    \\\\\n",
    "    b_{n}  \\\\\n",
    "\\end{bmatrix}$\n",
    "\n",
    "Return $ Ab = \\begin{bmatrix}\n",
    "    a_{11}    & a_{12} & ... & a_{1n} & b_{1}\\\\\n",
    "    a_{21}    & a_{22} & ... & a_{2n} & b_{2}\\\\\n",
    "    a_{31}    & a_{22} & ... & a_{3n} & b_{3}\\\\\n",
    "    ...    & ... & ... & ...& ...\\\\\n",
    "    a_{n1}    & a_{n2} & ... & a_{nn} & b_{n} \\end{bmatrix}$"
   ]
  },
  {
   "cell_type": "code",
   "execution_count": 10,
   "metadata": {},
   "outputs": [],
   "source": [
    "#TODO construct the augment matrix of matrix A and column vector b, assuming A and b have same number of rows\n",
    "def augmentMatrix(A, b):\n",
    "    height_A, weight_A = shape(A)\n",
    "    result = []\n",
    "    for row in range(height_A):\n",
    "        result.append([])\n",
    "        for colA in range(weight_A):\n",
    "            result[row].append(A[row][colA])\n",
    "        result[row].append(b[row][0])\n",
    "    return result"
   ]
  },
  {
   "cell_type": "code",
   "execution_count": 11,
   "metadata": {},
   "outputs": [
    {
     "name": "stderr",
     "output_type": "stream",
     "text": [
      ".\n",
      "----------------------------------------------------------------------\n",
      "Ran 1 test in 0.005s\n",
      "\n",
      "OK\n"
     ]
    }
   ],
   "source": [
    "# run following code to test your augmentMatrix function\n",
    "%run -i -e test.py LinearRegressionTestCase.test_augmentMatrix"
   ]
  },
  {
   "cell_type": "markdown",
   "metadata": {},
   "source": [
    "## 2.2 Basic row operations\n",
    "- exchange two rows\n",
    "- scale a row\n",
    "- add a scaled row to another"
   ]
  },
  {
   "cell_type": "code",
   "execution_count": 12,
   "metadata": {},
   "outputs": [],
   "source": [
    "# TODO r1 <---> r2\n",
    "# TODO in-place operation, no return value\n",
    "def swapRows(M, r1, r2):\n",
    "    for row, rowList in enumerate(M):\n",
    "        if row != r1:\n",
    "            continue\n",
    "        for col, value in enumerate(rowList):\n",
    "            temp = M[r1][col]\n",
    "            M[r1][col] = M[r2][col]\n",
    "            M[r2][col] = temp"
   ]
  },
  {
   "cell_type": "code",
   "execution_count": 13,
   "metadata": {},
   "outputs": [
    {
     "name": "stderr",
     "output_type": "stream",
     "text": [
      ".\n",
      "----------------------------------------------------------------------\n",
      "Ran 1 test in 0.001s\n",
      "\n",
      "OK\n"
     ]
    }
   ],
   "source": [
    "# run following code to test your swapRows function\n",
    "%run -i -e test.py LinearRegressionTestCase.test_swapRows"
   ]
  },
  {
   "cell_type": "code",
   "execution_count": 14,
   "metadata": {},
   "outputs": [],
   "source": [
    "# TODO r1 <--- r1 * scale\n",
    "# TODO in-place operation, no return value\n",
    "def scaleRow(M, r, scale):\n",
    "    if scale == 0:\n",
    "        raise ValueError(\"Wrong answer\")    \n",
    "    for row, rowList in enumerate(M):\n",
    "        if row != r:\n",
    "            continue\n",
    "        for col, value in enumerate(rowList):\n",
    "            M[row][col] *= scale\n",
    "        break"
   ]
  },
  {
   "cell_type": "code",
   "execution_count": 15,
   "metadata": {},
   "outputs": [
    {
     "name": "stderr",
     "output_type": "stream",
     "text": [
      ".\n",
      "----------------------------------------------------------------------\n",
      "Ran 1 test in 0.001s\n",
      "\n",
      "OK\n"
     ]
    }
   ],
   "source": [
    "# run following code to test your scaleRow function\n",
    "%run -i -e test.py LinearRegressionTestCase.test_scaleRow"
   ]
  },
  {
   "cell_type": "code",
   "execution_count": 16,
   "metadata": {},
   "outputs": [],
   "source": [
    "# TODO r1 <--- r1 + r2*scale\n",
    "# TODO in-place operation, no return value\n",
    "def addScaledRow(M, r1, r2, scale):\n",
    "    for row, rowList in enumerate(M):\n",
    "        if row != r1:\n",
    "            continue\n",
    "        for col, value in enumerate(rowList):\n",
    "            M[r1][col] += M[r2][col] * scale\n",
    "        break"
   ]
  },
  {
   "cell_type": "code",
   "execution_count": 17,
   "metadata": {},
   "outputs": [
    {
     "name": "stderr",
     "output_type": "stream",
     "text": [
      ".\n",
      "----------------------------------------------------------------------\n",
      "Ran 1 test in 0.001s\n",
      "\n",
      "OK\n"
     ]
    }
   ],
   "source": [
    "# run following code to test your addScaledRow function\n",
    "%run -i -e test.py LinearRegressionTestCase.test_addScaledRow"
   ]
  },
  {
   "cell_type": "markdown",
   "metadata": {},
   "source": [
    "## 2.3  Gauss-jordan method to solve Ax = b\n",
    "\n",
    "### Hint：\n",
    "\n",
    "Step 1: Check if A and b have same number of rows\n",
    "Step 2: Construct augmented matrix Ab\n",
    "\n",
    "Step 3: Column by column, transform Ab to reduced row echelon form [wiki link](https://en.wikipedia.org/wiki/Row_echelon_form#Reduced_row_echelon_form)\n",
    "    \n",
    "    for every column of Ab (except the last one)\n",
    "        column c is the current column\n",
    "        Find in column c, at diagonal and under diagonal (row c ~ N) the maximum absolute value\n",
    "        If the maximum absolute value is 0\n",
    "            then A is singular, return None （Prove this proposition in Question 2.4）\n",
    "        else\n",
    "            Apply row operation 1, swap the row of maximum with the row of diagonal element (row c)\n",
    "            Apply row operation 2, scale the diagonal element of column c to 1\n",
    "            Apply row operation 3 mutiple time, eliminate every other element in column c\n",
    "            \n",
    "Step 4: return the last column of Ab\n",
    "\n",
    "### Remark：\n",
    "We don't use the standard algorithm first transfering Ab to row echelon form and then to reduced row echelon form.  Instead, we arrives directly at reduced row echelon form. If you are familiar with the stardard way, try prove to yourself that they are equivalent. "
   ]
  },
  {
   "cell_type": "code",
   "execution_count": 18,
   "metadata": {},
   "outputs": [],
   "source": [
    "#TODO implement gaussian jordan method to solve Ax = b\n",
    "\n",
    "\"\"\" Gauss-jordan method to solve x such that Ax = b.\n",
    "        A: square matrix, list of lists\n",
    "        b: column vector, list of lists\n",
    "        decPts: degree of rounding, default value 4\n",
    "        epsilon: threshold for zero, default value 1.0e-16\n",
    "        \n",
    "    return x such that Ax = b, list of lists \n",
    "    return None if A and b have same height\n",
    "    return None if A is (almost) singular\n",
    "\"\"\"\n",
    "\n",
    "def gj_Solve(A, b, decPts=4, epsilon = 1.0e-16):\n",
    "    height = len(A)\n",
    "    if height != len(b):\n",
    "        raise ValueError\n",
    "    B = augmentMatrix(A, b)\n",
    "    \n",
    "    for col in range(height):\n",
    "        maxValue = 0\n",
    "        value = 0\n",
    "        maxRow = 0\n",
    "        for r in range(col, height):\n",
    "            if abs(B[r][col]) > maxValue:\n",
    "                maxValue = abs(B[r][col])\n",
    "                value = B[r][col]\n",
    "                maxRow = r\n",
    "\n",
    "        # singular\n",
    "        if maxValue < epsilon:\n",
    "            return None\n",
    "\n",
    "        if col != maxRow:\n",
    "            swapRows(B, col, maxRow)\n",
    "            if value != 1:\n",
    "                scaleRow(B, col, 1.0 / B[col][col])\n",
    "        else:\n",
    "            if value != 1:\n",
    "                scaleRow(B, col, 1.0 / B[col][col])\n",
    "\n",
    "        for num in range(0, height):\n",
    "            if num != col:\n",
    "                addScaledRow(B, num, col, -B[num][col])\n",
    "\n",
    "    result = []\n",
    "    for row in range(height):\n",
    "        result.append([])\n",
    "        result[row].append(round(B[row][-1], decPts))\n",
    "    return result"
   ]
  },
  {
   "cell_type": "code",
   "execution_count": 19,
   "metadata": {},
   "outputs": [
    {
     "name": "stderr",
     "output_type": "stream",
     "text": [
      ".\n",
      "----------------------------------------------------------------------\n",
      "Ran 1 test in 2.697s\n",
      "\n",
      "OK\n"
     ]
    }
   ],
   "source": [
    "# run following code to test your addScaledRow function\n",
    "%run -i -e test.py LinearRegressionTestCase.test_gj_Solve"
   ]
  },
  {
   "cell_type": "markdown",
   "metadata": {},
   "source": [
    "## 2.4 Prove the following proposition:\n",
    "\n",
    "**If square matrix A can be divided into four parts: ** \n",
    "\n",
    "$ A = \\begin{bmatrix}\n",
    "    I    & X \\\\\n",
    "    Z    & Y \\\\\n",
    "\\end{bmatrix} $, where I is the identity matrix, Z is all zero and the first column of Y is all zero, \n",
    "\n",
    "**then A is singular.**\n",
    "\n",
    "Hint: There are mutiple ways to prove this problem.  \n",
    "- consider the rank of Y and A\n",
    "- consider the determinate of Y and A \n",
    "- consider certain column is the linear combination of other columns"
   ]
  },
  {
   "cell_type": "markdown",
   "metadata": {},
   "source": [
    "# TODO Please use latex \n",
    "\n",
    "### Proof：  \n",
    "\n",
    "For square matrix, $A = \n",
    "\\begin{bmatrix}\n",
    "I & X\\\\\n",
    "Z & Y\\\\\n",
    "\\end{bmatrix}\n",
    "$\n",
    ", assume I is $m$ $\\times$ $m$ identity matrix, X is $m \\times n$ matrix, and A is $(m + n) \\times (m + n)$ matrix. As the first column of $Y$ is zero and $Z$ is all zero, we can get the $(m+1)$th column of $A$, $A[:][m]$ is the combination of former m columns, i.e., \n",
    "\\begin{eqnarray*}\n",
    "A[:][m] = \\sum_{j=0}^{m-1} A[j][m] \\cdot A[:][j]\n",
    "\\end{eqnarray*}\n",
    "Considering solving the inverse matrix of $A$, for\n",
    "$[A \\mid I] = \n",
    "\\begin{bmatrix}\n",
    "I & X & I \\\\\n",
    "Z & Y & I \\\\\n",
    "\\end{bmatrix}$\n",
    ", we can make the mth column is all zero by Guass-jordan method:\n",
    "\\begin{eqnarray*}\n",
    "A[:][m] \\leftarrow \\sum_{j=0}^{m-1} -A[j][m] \\cdot A[:][j] + A[:][m]\n",
    "\\end{eqnarray*}\n",
    "So the former $m+n$ columns of [$A \\mid I$] cannot be converted to identity matrix. Therefore, it doesn't exist inverse matrix for $A$. So $A$ is singular matrix."
   ]
  },
  {
   "cell_type": "markdown",
   "metadata": {},
   "source": [
    "---\n",
    "\n",
    "# 3 Linear Regression: \n",
    "\n",
    "## 3.1 Compute the gradient of loss function with respect to parameters \n",
    "## (Choose one between two 3.1 questions)\n",
    "\n",
    "We define loss funtion $E$ as \n",
    "$$\n",
    "E(m, b) = \\sum_{i=1}^{n}{(y_i - mx_i - b)^2}\n",
    "$$\n",
    "and we define vertex $Y$, matrix $X$ and vertex $h$ :\n",
    "$$\n",
    "Y =  \\begin{bmatrix}\n",
    "    y_1 \\\\\n",
    "    y_2 \\\\\n",
    "    ... \\\\\n",
    "    y_n\n",
    "\\end{bmatrix}\n",
    ",\n",
    "X =  \\begin{bmatrix}\n",
    "    x_1 & 1 \\\\\n",
    "    x_2 & 1\\\\\n",
    "    ... & ...\\\\\n",
    "    x_n & 1 \\\\\n",
    "\\end{bmatrix},\n",
    "h =  \\begin{bmatrix}\n",
    "    m \\\\\n",
    "    b \\\\\n",
    "\\end{bmatrix}\n",
    "$$\n",
    "\n",
    "\n",
    "Proves that \n",
    "$$\n",
    "\\frac{\\partial E}{\\partial m} = \\sum_{i=1}^{n}{-2x_i(y_i - mx_i - b)}\n",
    "$$\n",
    "\n",
    "$$\n",
    "\\frac{\\partial E}{\\partial b} = \\sum_{i=1}^{n}{-2(y_i - mx_i - b)}\n",
    "$$\n",
    "\n",
    "$$\n",
    "\\begin{bmatrix}\n",
    "    \\frac{\\partial E}{\\partial m} \\\\\n",
    "    \\frac{\\partial E}{\\partial b} \n",
    "\\end{bmatrix} = 2X^TXh - 2X^TY\n",
    "$$"
   ]
  },
  {
   "cell_type": "markdown",
   "metadata": {},
   "source": [
    "TODO Please use latex\n",
    "\n",
    "### Proof：\n",
    "\n",
    "$$\n",
    "E(m, b) = \\sum_{i=1}^{n}[(y_i - b)^2 - 2(y_i - b)mx_i + m^2x_i^2]\n",
    "$$\n",
    "so we can get\n",
    "\\begin{eqnarray*}\n",
    "\\frac{\\partial E}{\\partial m} &=& \\sum_{i=1}^{n}[ - 2(y_i - b)x_i + 2mx_i^2] \\\\\n",
    "&=& \\sum_{i=1}^{n}-2x_i(y_i - mx_i -b)\n",
    "\\end{eqnarray*}\n",
    "\n",
    "And also,\n",
    "$$\n",
    "E(m, b) = \\sum_{i=1}^{n}[(y_i - mx_i)^2 - 2(y_i - mx_i)b + b^2]\n",
    "$$\n",
    "so we can get:\n",
    "\\begin{eqnarray*}\n",
    "\\frac{\\partial E}{\\partial b} &=& \\sum_{i=1}^{n}[ - 2(y_i - mx_i) + 2b] \\\\\n",
    "&=& \\sum_{i=1}^{n}-2(y_i - mx_i -b)\n",
    "\\end{eqnarray*}\n",
    "\n",
    "On the other side:\n",
    "\\begin{eqnarray*}\n",
    "X^TXh &=& \n",
    "\\begin{bmatrix}\n",
    "x_1 & x_2 & ... & x_n \\\\\n",
    "1  & 1 &  ...  & 1  \\\\\n",
    "\\end{bmatrix}\n",
    "\\cdot\n",
    "\\begin{bmatrix}\n",
    "x_1 & 1 \\\\\n",
    "x_2 & 1 \\\\\n",
    "... & ... \\\\\n",
    "x_n & 1 \\\\\n",
    "\\end{bmatrix}\n",
    "\\cdot\n",
    "\\begin{bmatrix}\n",
    "m \\\\\n",
    "b \\\\\n",
    "\\end{bmatrix} \\\\\n",
    "&=&\n",
    "\\begin{bmatrix}\n",
    "\\sum\\limits_{i=1}^{n}x_i^2  & \\sum_{i=1}^{n}x_i \\\\\n",
    "\\sum\\limits_{i=1}^{n}x_i & \\sum_{i=1}^{n}1 \\\\\n",
    "\\end{bmatrix}\n",
    "\\cdot\n",
    "\\begin{bmatrix}\n",
    "m \\\\\n",
    "b \\\\\n",
    "\\end{bmatrix} \\\\\n",
    "&=&\n",
    "\\begin{bmatrix}\n",
    "\\sum\\limits_{i=1}^{n}(mx_i^2  + bx_i) \\\\\n",
    "\\sum\\limits_{i=1}^{n}(mx_i + b) \\\\\n",
    "\\end{bmatrix}\n",
    "\\end{eqnarray*}\n",
    "\n",
    "$$\n",
    "X^TY =\n",
    "\\begin{bmatrix}\n",
    "x_1 & x_2 & ... & x_n \\\\\n",
    "1 & 1 & ... & 1 \\\\\n",
    "\\end{bmatrix}\n",
    "\\cdot\n",
    "\\begin{bmatrix}\n",
    "y_1 \\\\\n",
    "y_2 \\\\\n",
    "... \\\\\n",
    "y_3\n",
    "\\end{bmatrix}\n",
    "= \\begin{bmatrix}\n",
    "\\sum\\limits_{i=1}^{n}x_iy_i \\\\\n",
    "\\sum\\limits_{i=1}^{n}y_i \\\\\n",
    "\\end{bmatrix}\n",
    "$$\n",
    "\n",
    "Therefore,\n",
    "$$\n",
    "2X^TXh -2X^TY = \n",
    "\\begin{bmatrix}\n",
    "\\sum\\limits_{i=1}^{n}(2mx_i^2 + 2bx_i - 2x_iy_i) \\\\\n",
    "\\sum\\limits_{i=1}^{n}(2mx_i + 2b -2y_i)\n",
    "\\end{bmatrix}\n",
    "= \\begin{bmatrix}\n",
    "\\frac{\\partial E}{\\partial m} \\\\\n",
    "\\frac{\\partial E}{\\partial b}\n",
    "\\end{bmatrix}\n",
    "$$"
   ]
  },
  {
   "cell_type": "markdown",
   "metadata": {},
   "source": [
    "## 3.1 Compute the gradient of loss function with respect to parameters \n",
    "## (Choose one between two 3.1 questions)\n",
    "We define loss funtion $E$ as \n",
    "$$\n",
    "E(m, b) = \\sum_{i=1}^{n}{(y_i - mx_i - b)^2}\n",
    "$$\n",
    "and we define vertex $Y$, matrix $X$ and vertex $h$ :\n",
    "$$\n",
    "Y =  \\begin{bmatrix}\n",
    "    y_1 \\\\\n",
    "    y_2 \\\\\n",
    "    ... \\\\\n",
    "    y_n\n",
    "\\end{bmatrix}\n",
    ",\n",
    "X =  \\begin{bmatrix}\n",
    "    x_1 & 1 \\\\\n",
    "    x_2 & 1\\\\\n",
    "    ... & ...\\\\\n",
    "    x_n & 1 \\\\\n",
    "\\end{bmatrix},\n",
    "h =  \\begin{bmatrix}\n",
    "    m \\\\\n",
    "    b \\\\\n",
    "\\end{bmatrix}\n",
    "$$\n",
    "\n",
    "Proves that \n",
    "$$\n",
    "E = Y^TY -2(Xh)^TY + (Xh)^TXh\n",
    "$$\n",
    "\n",
    "$$\n",
    "\\frac{\\partial E}{\\partial h} = 2X^TXh - 2X^TY\n",
    "$$"
   ]
  },
  {
   "cell_type": "markdown",
   "metadata": {},
   "source": [
    "TODO Please use latex （refering to the latex in problem may help）\n",
    "\n",
    "TODO Proof："
   ]
  },
  {
   "cell_type": "markdown",
   "metadata": {},
   "source": [
    "## 3.2  Linear Regression\n",
    "### Solve equation $X^TXh = X^TY $ to compute the best parameter for linear regression."
   ]
  },
  {
   "cell_type": "code",
   "execution_count": 20,
   "metadata": {},
   "outputs": [],
   "source": [
    "#TODO implement linear regression \n",
    "'''\n",
    "points: list of (x,y) tuple\n",
    "return m and b\n",
    "'''\n",
    "def linearRegression(points):\n",
    "    C1 = 0.0; C2 = 0.0\n",
    "    C4 = len(points[0])\n",
    "    k1 = 0.0; k2 = 0.0\n",
    "    x_list = points[0]\n",
    "    y_list = points[1]\n",
    "\n",
    "    for xi, yi in zip(x_list, y_list):\n",
    "        C1 += xi ** 2\n",
    "        C2 += xi\n",
    "        k1 += xi * yi\n",
    "        k2 += yi\n",
    "\n",
    "    denominator = C1 * C4 - C2 ** 2\n",
    "    m_numerator = C4 * k1 - C2 * k2\n",
    "    b_numerator = - C2 * k1 + C1 * k2\n",
    "\n",
    "    return m_numerator / denominator, b_numerator /  denominator"
   ]
  },
  {
   "cell_type": "markdown",
   "metadata": {},
   "source": [
    "## 3.3 Test your linear regression implementation"
   ]
  },
  {
   "cell_type": "code",
   "execution_count": 23,
   "metadata": {},
   "outputs": [
    {
     "name": "stdout",
     "output_type": "stream",
     "text": [
      "OK\n"
     ]
    }
   ],
   "source": [
    "import random\n",
    "#TODO Construct the linear function\n",
    "m_truth = round(random.gauss(0, 10), 4)\n",
    "b_truth = round(random.gauss(0, 10), 4)\n",
    "    \n",
    "#TODO Construct points with gaussian noise\n",
    "x_list = []\n",
    "y_list = []\n",
    "for i in range(20):\n",
    "    x_list.append(round(random.gauss(0, 10), 4))\n",
    "    y_list.append(m_truth * x_list[-1] + b_truth)\n",
    "    \n",
    "#TODO Compute m and b and compare with ground truth\n",
    "m_compute, b_compute = linearRegression((x_list, y_list))\n",
    "    \n",
    "if not (abs(m_compute - m_truth) < 1e-10 and abs(b_compute - b_truth) < 1e-10):\n",
    "    raise ValueError(\"m_truth={}, b_truth={} but got m_compute={}, b_compute={}\".format(m_truth, b_truth, m_compute, b_compute))\n",
    "print(\"OK\")"
   ]
  },
  {
   "cell_type": "code",
   "execution_count": null,
   "metadata": {},
   "outputs": [],
   "source": []
  }
 ],
 "metadata": {
  "anaconda-cloud": {},
  "celltoolbar": "Raw Cell Format",
  "kernelspec": {
   "display_name": "Python 3",
   "language": "python",
   "name": "python3"
  },
  "language_info": {
   "codemirror_mode": {
    "name": "ipython",
    "version": 3
   },
   "file_extension": ".py",
   "mimetype": "text/x-python",
   "name": "python",
   "nbconvert_exporter": "python",
   "pygments_lexer": "ipython3",
   "version": "3.6.4"
  }
 },
 "nbformat": 4,
 "nbformat_minor": 2
}
